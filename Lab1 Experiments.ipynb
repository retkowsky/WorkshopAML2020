{
 "cells": [
  {
   "cell_type": "markdown",
   "metadata": {},
   "source": [
    "# Lab 1: Azure ML experiments\n",
    "<br>\n",
    "\n",
    "<img src='https://github.com/retkowsky/images/blob/master/AzureMLservicebanniere.png?raw=true'>\n",
    "\n",
    "\n",
    "Documentation : https://docs.microsoft.com/en-us/azure/machine-learning/"
   ]
  },
  {
   "cell_type": "markdown",
   "metadata": {},
   "source": [
    "In this tutorial, you complete the end-to-end steps to get started with the Azure Machine Learning Python SDK running \n",
    "in Jupyter notebooks. \n",
    "\n",
    "In this tutorial, you:\n",
    "- Run some Python code\n",
    "- Log results and metrics into an Azure ML experiment using run.log\n",
    "- Save a ML model"
   ]
  },
  {
   "cell_type": "markdown",
   "metadata": {},
   "source": [
    "> https://docs.microsoft.com/en-us/azure/machine-learning/concept-azure-machine-learning-architecture"
   ]
  },
  {
   "cell_type": "markdown",
   "metadata": {},
   "source": [
    "<img src=\"https://github.com/retkowsky/images/blob/master/AzureML%20Archi.jpg?raw=true\">"
   ]
  },
  {
   "cell_type": "markdown",
   "metadata": {},
   "source": [
    "> Azure architectures: https://docs.microsoft.com/en-us/azure/architecture/browse/"
   ]
  },
  {
   "cell_type": "markdown",
   "metadata": {},
   "source": [
    "## 0. Settings"
   ]
  },
  {
   "cell_type": "code",
   "execution_count": 1,
   "metadata": {
    "gather": {
     "logged": 1604047479622
    }
   },
   "outputs": [
    {
     "name": "stdout",
     "output_type": "stream",
     "text": [
      "Today is 2021-11-23 16:41:44.090348\n"
     ]
    }
   ],
   "source": [
    "import datetime\n",
    "today = datetime.datetime.now()\n",
    "print(\"Today is\", today)"
   ]
  },
  {
   "cell_type": "code",
   "execution_count": 2,
   "metadata": {},
   "outputs": [],
   "source": [
    "import scipy, matplotlib, pandas, sklearn\n",
    "import numpy as np\n",
    "import azureml.core\n",
    "import time\n",
    "from azureml.core.experiment import Experiment\n",
    "from azureml.core.workspace import Workspace\n",
    "from azureml.train.automl import AutoMLConfig\n",
    "from azureml.train.automl.run import AutoMLRun"
   ]
  },
  {
   "cell_type": "code",
   "execution_count": 3,
   "metadata": {},
   "outputs": [
    {
     "name": "stdout",
     "output_type": "stream",
     "text": [
      "You are using Python 3.6.9 |Anaconda, Inc.| (default, Jul 30 2019, 19:07:31) \n",
      "[GCC 7.3.0]\n"
     ]
    }
   ],
   "source": [
    "import sys\n",
    "print(\"You are using Python\", sys.version)"
   ]
  },
  {
   "cell_type": "code",
   "execution_count": 4,
   "metadata": {},
   "outputs": [
    {
     "name": "stdout",
     "output_type": "stream",
     "text": [
      "You are using Azure ML 1.33.0\n"
     ]
    }
   ],
   "source": [
    "print(\"You are using Azure ML\", azureml.core.VERSION)"
   ]
  },
  {
   "cell_type": "code",
   "execution_count": 5,
   "metadata": {},
   "outputs": [
    {
     "name": "stdout",
     "output_type": "stream",
     "text": [
      "Releases:\n",
      "- scipy = 1.4.1\n",
      "- numpy = 1.19.5\n",
      "- matplotlib = 3.3.4\n",
      "- pandas = 1.1.5\n",
      "- sklearn = 0.22.2.post1\n",
      "- Azure ML = 1.33.0\n"
     ]
    }
   ],
   "source": [
    "print(\"Releases:\")\n",
    "print('- scipy = {}'.format(scipy.__version__))\n",
    "print('- numpy = {}'.format(np.__version__))\n",
    "print('- matplotlib = {}'.format(matplotlib.__version__))\n",
    "print('- pandas = {}'.format(pandas.__version__))\n",
    "print('- sklearn = {}'.format(sklearn.__version__))\n",
    "print(\"- Azure ML =\",azureml.core.VERSION)"
   ]
  },
  {
   "cell_type": "markdown",
   "metadata": {},
   "source": [
    "> Azure ML Release notes: https://docs.microsoft.com/en-us/azure/machine-learning/azure-machine-learning-release-notes"
   ]
  },
  {
   "cell_type": "markdown",
   "metadata": {},
   "source": [
    "## Let's connect to the Azure ML workspace"
   ]
  },
  {
   "cell_type": "code",
   "execution_count": 6,
   "metadata": {},
   "outputs": [
    {
     "name": "stdout",
     "output_type": "stream",
     "text": [
      "Azure ML Workspace name: azuremlworkshop\n",
      "Azure region: eastus\n",
      "Resource group: azuremlworkshop-rg\n"
     ]
    }
   ],
   "source": [
    "from azureml.core import Workspace\n",
    "\n",
    "ws = Workspace.from_config()\n",
    "print('Azure ML Workspace name: ' + ws.name, \n",
    "      'Azure region: ' + ws.location, \n",
    "      'Resource group: ' + ws.resource_group, sep='\\n')"
   ]
  },
  {
   "cell_type": "markdown",
   "metadata": {},
   "source": [
    "## 1. Data"
   ]
  },
  {
   "cell_type": "code",
   "execution_count": 7,
   "metadata": {},
   "outputs": [],
   "source": [
    "from sklearn.datasets import load_diabetes\n",
    "from sklearn.linear_model import Ridge\n",
    "from sklearn.metrics import mean_squared_error\n",
    "from sklearn.model_selection import train_test_split\n",
    "\n",
    "import joblib"
   ]
  },
  {
   "cell_type": "code",
   "execution_count": 8,
   "metadata": {},
   "outputs": [
    {
     "name": "stdout",
     "output_type": "stream",
     "text": [
      "You are using scikit-learn 0.22.2.post1\n"
     ]
    }
   ],
   "source": [
    "# scikit-learn version\n",
    "import sklearn\n",
    "print(\"You are using scikit-learn\", sklearn.__version__)"
   ]
  },
  {
   "cell_type": "markdown",
   "metadata": {},
   "source": [
    "> https://scikit-learn.org/stable/index.html"
   ]
  },
  {
   "cell_type": "markdown",
   "metadata": {},
   "source": [
    "#### Data : DIABETES\n",
    "From Bradley Efron, Trevor Hastie, Iain Johnstone and Robert Tibshirani (2004) \"Least Angle Regression,\" Annals of Statistics (with discussion), 407-499, we have\n",
    "\n",
    "\"Ten baseline variables, age, sex, body mass index, average blood pressure, and six blood serum measurements were obtained for each of n = 442 diabetes patients, as well as the response of interest, a quantitative measure of disease progression one year after baseline.\"\n",
    "> https://www4.stat.ncsu.edu/~boos/var.select/diabetes.html"
   ]
  },
  {
   "cell_type": "code",
   "execution_count": 9,
   "metadata": {},
   "outputs": [],
   "source": [
    "X, y = load_diabetes(return_X_y = True)\n",
    "columns = ['age', 'gender', 'bmi', 'bp', 's1', 's2', 's3', 's4', 's5', 's6']"
   ]
  },
  {
   "cell_type": "code",
   "execution_count": 10,
   "metadata": {},
   "outputs": [
    {
     "data": {
      "text/plain": [
       "0.3"
      ]
     },
     "execution_count": 10,
     "metadata": {},
     "output_type": "execute_result"
    }
   ],
   "source": [
    "# Test population in %\n",
    "testsizepct=0.30\n",
    "testsizepct"
   ]
  },
  {
   "cell_type": "code",
   "execution_count": 11,
   "metadata": {},
   "outputs": [],
   "source": [
    "X_train, X_test, y_train, y_test = train_test_split(X, y, test_size=testsizepct, random_state=0)\n",
    "\n",
    "data = {\n",
    "    \"train\":{\"X\": X_train, \"y\": y_train},        \n",
    "    \"test\":{\"X\": X_test, \"y\": y_test}\n",
    "}"
   ]
  },
  {
   "cell_type": "code",
   "execution_count": 12,
   "metadata": {},
   "outputs": [
    {
     "name": "stdout",
     "output_type": "stream",
     "text": [
      "Training dataset = 309 observations - 69.91 %\n",
      "Test dataset = 133 observations - 30.09 %\n"
     ]
    }
   ],
   "source": [
    "nobstrain=len(data['train']['X'])\n",
    "nobstest=len(data['test']['X'])\n",
    "nobstotal=nobstrain+nobstest\n",
    "pcttrain=round(nobstrain/nobstotal*100,2)\n",
    "pcttest=round(nobstest/nobstotal*100,2)\n",
    "\n",
    "print (\"Training dataset =\", nobstrain, 'observations -', pcttrain, '%')\n",
    "print (\"Test dataset =\", nobstest, 'observations -', pcttest,'%')"
   ]
  },
  {
   "cell_type": "markdown",
   "metadata": {},
   "source": [
    "## 2. Let's build a model to predict Diabetes level"
   ]
  },
  {
   "cell_type": "markdown",
   "metadata": {},
   "source": [
    "We will use a **Ridge** regression.<br> \n",
    "k is a parameter of this kind of regression model. We will play with multiple values of k during our experiment.\n",
    "<img src='https://github.com/retkowsky/images/blob/master/ridge.png?raw=true'>\n",
    "<br>\n",
    "\n",
    "> https://scikit-learn.org/stable/modules/generated/sklearn.linear_model.Ridge.html\n"
   ]
  },
  {
   "cell_type": "markdown",
   "metadata": {},
   "source": [
    "### Creation of an Azure ML experimentation"
   ]
  },
  {
   "cell_type": "code",
   "execution_count": 13,
   "metadata": {},
   "outputs": [],
   "source": [
    "from azureml.core import experiment\n",
    "experiment = Experiment(workspace=ws, name=\"Lab1-Experiments\")"
   ]
  },
  {
   "cell_type": "code",
   "execution_count": 14,
   "metadata": {},
   "outputs": [],
   "source": [
    "def regridge(k):\n",
    "    \n",
    "    start_time = time.time()\n",
    "    \n",
    "    # 1. Starting\n",
    "    run = experiment.start_logging(snapshot_directory=None)\n",
    "    \n",
    "    print('k parameter of the Ridge regression =', k)\n",
    "    print()    \n",
    "       \n",
    "    # 2. Logging\n",
    "    run.log('k', k) \n",
    "    run.log('Test Size', testsizepct)\n",
    "    run.log('Nobs Training', nobstrain)\n",
    "    run.log('Nobs Test', nobstest)\n",
    "    \n",
    "    print('Test Size =', testsizepct)\n",
    "    print('Numbers of obs for the Training dataset =', nobstrain)\n",
    "    print('Number of obs for the Testing dataset =', nobstest)    \n",
    "    print()\n",
    "    \n",
    "    # 3. ML model\n",
    "    regression_model = Ridge(alpha=k)\n",
    "    regression_model.fit(data['train']['X'], data['train']['y'])\n",
    "    preds = regression_model.predict(data['test']['X'])\n",
    "\n",
    "    # 4. Logging ML metrics\n",
    "    from sklearn.metrics import r2_score\n",
    "    import math\n",
    "    \n",
    "    mse = round(mean_squared_error(data['test']['y'], preds), 4)\n",
    "    rmse = round(math.sqrt(mse), 4)\n",
    "    R2 = round(r2_score(data['test']['y'], preds), 4)\n",
    "    \n",
    "    print(\"Model quality indicators:\")\n",
    "    print('- RMSE =', rmse)\n",
    "    print('- MSE =', mse)\n",
    "    print('- R2 =', R2)\n",
    "    \n",
    "    run.log(\"rmse\", rmse)\n",
    "    run.log('mse', mse)\n",
    "    run.log('R2', R2)\n",
    "\n",
    "    # 5. Saving the model\n",
    "    \n",
    "    model_name = \"RegRidgeModele-k-\" + str(k) + \".pkl\"\n",
    "    filename = \"outputs/\" + model_name\n",
    "    \n",
    "    joblib.dump(value=regression_model, filename=filename)\n",
    "    run.upload_file(name=model_name, path_or_stream=filename)\n",
    "    \n",
    "    AMLV=azureml.core.VERSION\n",
    "    \n",
    "    # 6. Tags\n",
    "    run.tag(\"Langage\", \"Python\")\n",
    "    run.tag(\"Version_Python\", \"3.6.9\")\n",
    "    run.tag(\"Version_AzureML\", AMLV)\n",
    "    run.tag(\"Team\", \"DataScience France\")\n",
    "    run.tag(\"Country\", \"France\") \n",
    "    run.tag(\"Author\", \"Serge\") \n",
    "    \n",
    "    # 7. Graph generation\n",
    "    %matplotlib inline\n",
    "    import matplotlib.pyplot as plt\n",
    "\n",
    "    fig = plt.figure(1)\n",
    "    idx = np.argsort(data['test']['y'])\n",
    "    plt.plot(data['test']['y'][idx],preds[idx])\n",
    "    \n",
    "    fig.savefig(\"RegRidgeGraphique-k-\"+str(k)+\".png\")\n",
    "    plt.title('Ridge', fontsize=10)\n",
    "    \n",
    "    run.log_image(name='My Graph', plot=plt) # Logging the graph into the experiment\n",
    "    \n",
    "    print('\\nTime elapsed = {}'.format(str(time.strftime('%H:%M:%S', time.gmtime(time.time() - start_time)))))\n",
    "\n",
    "    # 6. End\n",
    "    run.complete()"
   ]
  },
  {
   "cell_type": "markdown",
   "metadata": {},
   "source": [
    "### Let's call the Python function with different k values"
   ]
  },
  {
   "cell_type": "code",
   "execution_count": 15,
   "metadata": {},
   "outputs": [
    {
     "name": "stdout",
     "output_type": "stream",
     "text": [
      "k parameter of the Ridge regression = 0\n",
      "\n",
      "Test Size = 0.3\n",
      "Numbers of obs for the Training dataset = 309\n",
      "Number of obs for the Testing dataset = 133\n",
      "\n",
      "Model quality indicators:\n",
      "- RMSE = 55.652\n",
      "- MSE = 3097.1461\n",
      "- R2 = 0.3929\n",
      "\n",
      "Time elapsed = 00:00:09\n"
     ]
    },
    {
     "data": {
      "image/png": "[encoded data removed]",
      "text/plain": [
       "<Figure size 432x288 with 1 Axes>"
      ]
     },
     "metadata": {
      "needs_background": "light"
     },
     "output_type": "display_data"
    }
   ],
   "source": [
    "regridge(0)"
   ]
  },
  {
   "cell_type": "code",
   "execution_count": 16,
   "metadata": {},
   "outputs": [
    {
     "name": "stdout",
     "output_type": "stream",
     "text": [
      "k parameter of the Ridge regression = 0.1\n",
      "\n",
      "Test Size = 0.3\n",
      "Numbers of obs for the Training dataset = 309\n",
      "Number of obs for the Testing dataset = 133\n",
      "\n",
      "Model quality indicators:\n",
      "- RMSE = 55.2271\n",
      "- MSE = 3050.0324\n",
      "- R2 = 0.4021\n",
      "\n",
      "Time elapsed = 00:00:07\n"
     ]
    },
    {
     "data": {
      "image/png": "[encoded data removed]",
      "text/plain": [
       "<Figure size 432x288 with 1 Axes>"
      ]
     },
     "metadata": {
      "needs_background": "light"
     },
     "output_type": "display_data"
    }
   ],
   "source": [
    "regridge(0.1)"
   ]
  },
  {
   "cell_type": "code",
   "execution_count": 17,
   "metadata": {},
   "outputs": [
    {
     "name": "stdout",
     "output_type": "stream",
     "text": [
      "k parameter of the Ridge regression = 0.2\n",
      "\n",
      "Test Size = 0.3\n",
      "Numbers of obs for the Training dataset = 309\n",
      "Number of obs for the Testing dataset = 133\n",
      "\n",
      "Model quality indicators:\n",
      "- RMSE = 55.0152\n",
      "- MSE = 3026.6677\n",
      "- R2 = 0.4067\n",
      "\n",
      "Time elapsed = 00:00:07\n"
     ]
    },
    {
     "data": {
      "image/png": "[encoded data removed]",
      "text/plain": [
       "<Figure size 432x288 with 1 Axes>"
      ]
     },
     "metadata": {
      "needs_background": "light"
     },
     "output_type": "display_data"
    }
   ],
   "source": [
    "regridge(0.2)"
   ]
  },
  {
   "cell_type": "code",
   "execution_count": 18,
   "metadata": {},
   "outputs": [
    {
     "name": "stdout",
     "output_type": "stream",
     "text": [
      "k parameter of the Ridge regression = 0.3\n",
      "\n",
      "Test Size = 0.3\n",
      "Numbers of obs for the Training dataset = 309\n",
      "Number of obs for the Testing dataset = 133\n",
      "\n",
      "Model quality indicators:\n",
      "- RMSE = 55.0521\n",
      "- MSE = 3030.7343\n",
      "- R2 = 0.4059\n",
      "\n",
      "Time elapsed = 00:00:07\n"
     ]
    },
    {
     "data": {
      "image/png": "[encoded data removed]",
      "text/plain": [
       "<Figure size 432x288 with 1 Axes>"
      ]
     },
     "metadata": {
      "needs_background": "light"
     },
     "output_type": "display_data"
    }
   ],
   "source": [
    "regridge(0.3)"
   ]
  },
  {
   "cell_type": "code",
   "execution_count": 19,
   "metadata": {},
   "outputs": [
    {
     "name": "stdout",
     "output_type": "stream",
     "text": [
      "-rwxrwxrwx 1 root root 632 Nov 23 16:42 \u001b[0m\u001b[01;32moutputs/RegRidgeModele-k-0.1.pkl\u001b[0m*\r\n",
      "-rwxrwxrwx 1 root root 632 Nov 23 16:42 \u001b[01;32moutputs/RegRidgeModele-k-0.2.pkl\u001b[0m*\r\n",
      "-rwxrwxrwx 1 root root 632 Nov 23 16:42 \u001b[01;32moutputs/RegRidgeModele-k-0.3.pkl\u001b[0m*\r\n",
      "-rwxrwxrwx 1 root root 625 Nov 23 16:42 \u001b[01;32moutputs/RegRidgeModele-k-0.pkl\u001b[0m*\r\n"
     ]
    }
   ],
   "source": [
    "# Viewing the pkl files saved in your compute instance\n",
    "%ls outputs/RegRidgeModele*.pkl -l"
   ]
  },
  {
   "cell_type": "code",
   "execution_count": 20,
   "metadata": {},
   "outputs": [
    {
     "name": "stdout",
     "output_type": "stream",
     "text": [
      "-rwxrwxrwx 1 root root 23450 Nov 23 16:42 \u001b[0m\u001b[01;32mRegRidgeGraphique-k-0.1.png\u001b[0m*\r\n",
      "-rwxrwxrwx 1 root root 24992 Nov 23 16:42 \u001b[01;32mRegRidgeGraphique-k-0.2.png\u001b[0m*\r\n",
      "-rwxrwxrwx 1 root root 25407 Nov 23 16:42 \u001b[01;32mRegRidgeGraphique-k-0.3.png\u001b[0m*\r\n",
      "-rwxrwxrwx 1 root root 23785 Nov 23 16:42 \u001b[01;32mRegRidgeGraphique-k-0.png\u001b[0m*\r\n"
     ]
    }
   ],
   "source": [
    "# List of the graphs outputs saved in your compute instance\n",
    "%ls RegRidgeGraphique*.png -l"
   ]
  },
  {
   "cell_type": "markdown",
   "metadata": {},
   "source": [
    "## Let's save the best model into the model repository. All models are versioned."
   ]
  },
  {
   "cell_type": "markdown",
   "metadata": {},
   "source": [
    "Best model is for k=0.2 (the RMSE metric has the lowest value)"
   ]
  },
  {
   "cell_type": "code",
   "execution_count": 21,
   "metadata": {},
   "outputs": [],
   "source": [
    "mymodel='RegRidgeModele-k-0.2.pkl'\n",
    "k=0.2\n",
    "\n",
    "RMSE = 55.0152\n",
    "MSE = 3026.6677\n",
    "R2 = 0.4067"
   ]
  },
  {
   "cell_type": "code",
   "execution_count": 22,
   "metadata": {},
   "outputs": [
    {
     "data": {
      "text/plain": [
       "'1.33.0'"
      ]
     },
     "execution_count": 22,
     "metadata": {},
     "output_type": "execute_result"
    }
   ],
   "source": [
    "# Azure ML version\n",
    "AMLS=azureml.core.VERSION\n",
    "AMLS"
   ]
  },
  {
   "cell_type": "code",
   "execution_count": 23,
   "metadata": {},
   "outputs": [
    {
     "name": "stdout",
     "output_type": "stream",
     "text": [
      "Registering model DiabetesRidgeModel\n"
     ]
    }
   ],
   "source": [
    "from azureml.core.model import Model\n",
    "\n",
    "model = Model.register(model_path=\"outputs/\"+mymodel, \n",
    "                       model_name=\"DiabetesRidgeModel\", \n",
    "                       model_framework=Model.Framework.SCIKITLEARN, \n",
    "                       model_framework_version='0.22.2',            \n",
    "                       tags={'dataset': 'Diabetes', \n",
    "                             'algorithm': 'Ridge Regression', \n",
    "                             'k parameter':k, \n",
    "                             'MSE' : MSE, \n",
    "                             'R2' : R2,\n",
    "                             'RMSE' : RMSE,\n",
    "                             'Framework' : 'Azure ML',\n",
    "                             'Version Azure ML' : AMLS },\n",
    "                       description=\"Ridge regression model to predict diabetes\",\n",
    "                       workspace=ws) "
   ]
  },
  {
   "cell_type": "markdown",
   "metadata": {},
   "source": [
    "## We can retrieve some information about our saved model"
   ]
  },
  {
   "cell_type": "code",
   "execution_count": 24,
   "metadata": {},
   "outputs": [
    {
     "data": {
      "text/plain": [
       "'DiabetesRidgeModel:2'"
      ]
     },
     "execution_count": 24,
     "metadata": {},
     "output_type": "execute_result"
    }
   ],
   "source": [
    "model.id"
   ]
  },
  {
   "cell_type": "code",
   "execution_count": 25,
   "metadata": {},
   "outputs": [
    {
     "name": "stdout",
     "output_type": "stream",
     "text": [
      "Name : DiabetesRidgeModel\n",
      "Description : Ridge regression model to predict diabetes\n",
      "ID = DiabetesRidgeModel:2\n",
      "Version = 2\n"
     ]
    }
   ],
   "source": [
    "print('Name :', model.name)\n",
    "print('Description :', model.description)\n",
    "print('ID =', model.id)\n",
    "print('Version =', model.version)"
   ]
  },
  {
   "cell_type": "code",
   "execution_count": 26,
   "metadata": {},
   "outputs": [
    {
     "data": {
      "text/plain": [
       "{'userObjectId': 'ff4137a8-2d37-4ee7-8675-9876eba469ce',\n",
       " 'userPuId': '1003200026778A56',\n",
       " 'userIss': 'https://sts.windows.net/72f988bf-86f1-41af-91ab-2d7cd011db47/',\n",
       " 'userTenantId': '72f988bf-86f1-41af-91ab-2d7cd011db47',\n",
       " 'userName': 'Serge Retkowsky'}"
      ]
     },
     "execution_count": 26,
     "metadata": {},
     "output_type": "execute_result"
    }
   ],
   "source": [
    "model.created_by"
   ]
  },
  {
   "cell_type": "code",
   "execution_count": 27,
   "metadata": {},
   "outputs": [
    {
     "data": {
      "text/plain": [
       "{'dataset': 'Diabetes',\n",
       " 'algorithm': 'Ridge Regression',\n",
       " 'k parameter': '0.2',\n",
       " 'MSE': '3026.6677',\n",
       " 'R2': '0.4067',\n",
       " 'RMSE': '55.0152',\n",
       " 'Framework': 'Azure ML',\n",
       " 'Version Azure ML': '1.33.0'}"
      ]
     },
     "execution_count": 27,
     "metadata": {},
     "output_type": "execute_result"
    }
   ],
   "source": [
    "model.tags"
   ]
  },
  {
   "cell_type": "markdown",
   "metadata": {},
   "source": [
    "Now we can see the model into the **Models** section in the Azure ML Studio interface:"
   ]
  },
  {
   "cell_type": "code",
   "execution_count": 28,
   "metadata": {},
   "outputs": [
    {
     "data": {
      "text/html": [
       "<table style=\"width:100%\"><tr><th>Name</th><th>Workspace</th><th>Report Page</th><th>Docs Page</th></tr><tr><td>Lab1-Experiments</td><td>azuremlworkshop</td><td><a href=\"https://ml.azure.com/experiments/id/3a4b8f52-09af-42cc-8f5a-4704ad1ac45d?wsid=/subscriptions/70b8f39e-8863-49f7-b6ba-34a80799550c/resourcegroups/azuremlworkshop-rg/workspaces/azuremlworkshop&amp;tid=72f988bf-86f1-41af-91ab-2d7cd011db47\" target=\"_blank\" rel=\"noopener\">Link to Azure Machine Learning studio</a></td><td><a href=\"https://docs.microsoft.com/en-us/python/api/azureml-core/azureml.core.experiment.Experiment?view=azure-ml-py\" target=\"_blank\" rel=\"noopener\">Link to Documentation</a></td></tr></table>"
      ],
      "text/plain": [
       "Experiment(Name: Lab1-Experiments,\n",
       "Workspace: azuremlworkshop)"
      ]
     },
     "execution_count": 28,
     "metadata": {},
     "output_type": "execute_result"
    }
   ],
   "source": [
    "experiment"
   ]
  },
  {
   "cell_type": "markdown",
   "metadata": {},
   "source": [
    "## Let's download the model from the repository and apply it to the test dataset"
   ]
  },
  {
   "cell_type": "code",
   "execution_count": 29,
   "metadata": {},
   "outputs": [],
   "source": [
    "from azureml.core.model import Model\n",
    "mymodel = Model(ws, 'DiabetesRidgeModel')\n",
    "#mymodel = Model(ws, 'DiabetesRidgeModel', version=5) To use a specific release of the model"
   ]
  },
  {
   "cell_type": "code",
   "execution_count": 30,
   "metadata": {},
   "outputs": [
    {
     "data": {
      "text/plain": [
       "Model(workspace=Workspace.create(name='azuremlworkshop', subscription_id='70b8f39e-8863-49f7-b6ba-34a80799550c', resource_group='azuremlworkshop-rg'), name=DiabetesRidgeModel, id=DiabetesRidgeModel:2, version=2, tags={'dataset': 'Diabetes', 'algorithm': 'Ridge Regression', 'k parameter': '0.2', 'MSE': '3026.6677', 'R2': '0.4067', 'RMSE': '55.0152', 'Framework': 'Azure ML', 'Version Azure ML': '1.33.0'}, properties={})"
      ]
     },
     "execution_count": 30,
     "metadata": {},
     "output_type": "execute_result"
    }
   ],
   "source": [
    "mymodel"
   ]
  },
  {
   "cell_type": "code",
   "execution_count": 31,
   "metadata": {},
   "outputs": [
    {
     "data": {
      "text/plain": [
       "2"
      ]
     },
     "execution_count": 31,
     "metadata": {},
     "output_type": "execute_result"
    }
   ],
   "source": [
    "mymodel.version"
   ]
  },
  {
   "cell_type": "code",
   "execution_count": 32,
   "metadata": {},
   "outputs": [
    {
     "data": {
      "text/plain": [
       "'DiabetesRidgeModel:2'"
      ]
     },
     "execution_count": 32,
     "metadata": {},
     "output_type": "execute_result"
    }
   ],
   "source": [
    "mymodel.id"
   ]
  },
  {
   "cell_type": "code",
   "execution_count": 33,
   "metadata": {},
   "outputs": [
    {
     "data": {
      "text/plain": [
       "{'dataset': 'Diabetes',\n",
       " 'algorithm': 'Ridge Regression',\n",
       " 'k parameter': '0.2',\n",
       " 'MSE': '3026.6677',\n",
       " 'R2': '0.4067',\n",
       " 'RMSE': '55.0152',\n",
       " 'Framework': 'Azure ML',\n",
       " 'Version Azure ML': '1.33.0'}"
      ]
     },
     "execution_count": 33,
     "metadata": {},
     "output_type": "execute_result"
    }
   ],
   "source": [
    "mymodel.tags"
   ]
  },
  {
   "cell_type": "code",
   "execution_count": 34,
   "metadata": {},
   "outputs": [
    {
     "data": {
      "text/plain": [
       "'RegRidgeModele-k-0.2.pkl'"
      ]
     },
     "execution_count": 34,
     "metadata": {},
     "output_type": "execute_result"
    }
   ],
   "source": [
    "# Download the pkl file into your local instance\n",
    "mymodel.download(exist_ok=\"True\")"
   ]
  },
  {
   "cell_type": "code",
   "execution_count": 35,
   "metadata": {},
   "outputs": [
    {
     "name": "stdout",
     "output_type": "stream",
     "text": [
      "-rwxrwxrwx 1 root root 632 Nov 23 16:43 RegRidgeModele-k-0.2.pkl\r\n"
     ]
    }
   ],
   "source": [
    "# We can see the downloaded pkl file\n",
    "!ls RegRidgeModele-k-0.2.pkl -l"
   ]
  },
  {
   "cell_type": "markdown",
   "metadata": {},
   "source": [
    "## Let's apply the model to the X_test"
   ]
  },
  {
   "cell_type": "code",
   "execution_count": 36,
   "metadata": {},
   "outputs": [],
   "source": [
    "import joblib\n",
    "localmodel=joblib.load(\"RegRidgeModele-k-0.2.pkl\")"
   ]
  },
  {
   "cell_type": "code",
   "execution_count": 37,
   "metadata": {},
   "outputs": [
    {
     "data": {
      "text/plain": [
       "array([225.38288663, 234.75672822, 164.00312819, 123.46281612,\n",
       "       173.32012984, 240.20150018, 114.66510657, 186.84673729,\n",
       "       147.81327349, 215.15222333, 157.67496598, 181.29031163,\n",
       "       114.71860965,  96.35335408, 235.73733821, 102.20957815,\n",
       "       147.67209551,  75.49004969, 101.20511519, 210.58415103,\n",
       "       185.33186517, 152.02131114, 160.30359928, 149.58478296,\n",
       "       197.65520638, 165.07380997, 115.98983757,  91.39581934,\n",
       "       177.25882651, 164.34061936, 174.33452649,  92.46591384,\n",
       "       140.53306243, 146.69112715, 149.45576607, 185.73324938,\n",
       "       163.12555341, 183.86975076, 133.42400217, 196.74441606,\n",
       "        93.43580034, 169.18689622, 147.92192731, 172.85033475,\n",
       "       179.93858885,  83.07219651, 136.61675205, 140.33734763,\n",
       "       132.6680819 , 220.56622016, 157.48518116,  90.73063296,\n",
       "       154.13365588, 159.89740219, 219.54872002, 177.72397388,\n",
       "       187.711351  , 115.43236395, 141.66560526, 172.65842486,\n",
       "       198.06726423, 160.8900295 , 160.64145986, 124.01127688,\n",
       "       244.34470657, 149.60634672,  90.42159674, 224.63904842,\n",
       "       199.85477162,  59.20789166,  88.52638222, 140.11495514,\n",
       "       112.67526953, 138.96342469, 136.62220219, 186.61801293,\n",
       "       118.95093032, 200.85197325, 217.84292082, 183.99047216,\n",
       "       150.39882822, 203.64538473,  70.37984832, 205.45148204,\n",
       "        88.04143737, 101.9174092 , 140.95167005, 189.06917737,\n",
       "       135.20453291, 152.56028415,  98.53228015, 128.66021699,\n",
       "        89.82689066, 154.2560757 , 127.11669304, 110.0321479 ,\n",
       "       223.00746531, 211.10276793, 136.59658398, 164.75253829,\n",
       "       184.38063805, 105.70493325, 208.35109466, 100.37493879,\n",
       "       208.98481298, 129.62065864, 219.10971746, 254.25872603,\n",
       "       121.00493611, 121.2977913 , 188.84821054, 120.33297775,\n",
       "       181.13423349, 106.6486232 , 102.46295664, 209.54413186,\n",
       "       225.45398709, 119.71357979, 263.4182524 , 127.43079763,\n",
       "       134.62888892, 119.33823733,  81.10941054, 227.77198116,\n",
       "       110.9800821 , 130.63053718, 199.82326789, 179.80540794,\n",
       "       183.12242861, 172.57443238, 191.90778094, 120.24955576,\n",
       "       169.72991723])"
      ]
     },
     "execution_count": 37,
     "metadata": {},
     "output_type": "execute_result"
    }
   ],
   "source": [
    "# Applying the model to the test datasets\n",
    "localmodel.predict(X_test)"
   ]
  },
  {
   "cell_type": "code",
   "execution_count": 38,
   "metadata": {},
   "outputs": [],
   "source": [
    "import pandas as pd\n",
    "modelpredictions=pd.DataFrame(localmodel.predict(X_test))"
   ]
  },
  {
   "cell_type": "code",
   "execution_count": 39,
   "metadata": {},
   "outputs": [
    {
     "data": {
      "text/html": [
       "<div>\n",
       "<style scoped>\n",
       "    .dataframe tbody tr th:only-of-type {\n",
       "        vertical-align: middle;\n",
       "    }\n",
       "\n",
       "    .dataframe tbody tr th {\n",
       "        vertical-align: top;\n",
       "    }\n",
       "\n",
       "    .dataframe thead th {\n",
       "        text-align: right;\n",
       "    }\n",
       "</style>\n",
       "<table border=\"1\" class=\"dataframe\">\n",
       "  <thead>\n",
       "    <tr style=\"text-align: right;\">\n",
       "      <th></th>\n",
       "      <th>0</th>\n",
       "    </tr>\n",
       "  </thead>\n",
       "  <tbody>\n",
       "    <tr>\n",
       "      <th>0</th>\n",
       "      <td>225.382887</td>\n",
       "    </tr>\n",
       "    <tr>\n",
       "      <th>1</th>\n",
       "      <td>234.756728</td>\n",
       "    </tr>\n",
       "    <tr>\n",
       "      <th>2</th>\n",
       "      <td>164.003128</td>\n",
       "    </tr>\n",
       "    <tr>\n",
       "      <th>3</th>\n",
       "      <td>123.462816</td>\n",
       "    </tr>\n",
       "    <tr>\n",
       "      <th>4</th>\n",
       "      <td>173.320130</td>\n",
       "    </tr>\n",
       "    <tr>\n",
       "      <th>5</th>\n",
       "      <td>240.201500</td>\n",
       "    </tr>\n",
       "    <tr>\n",
       "      <th>6</th>\n",
       "      <td>114.665107</td>\n",
       "    </tr>\n",
       "    <tr>\n",
       "      <th>7</th>\n",
       "      <td>186.846737</td>\n",
       "    </tr>\n",
       "    <tr>\n",
       "      <th>8</th>\n",
       "      <td>147.813273</td>\n",
       "    </tr>\n",
       "    <tr>\n",
       "      <th>9</th>\n",
       "      <td>215.152223</td>\n",
       "    </tr>\n",
       "  </tbody>\n",
       "</table>\n",
       "</div>"
      ],
      "text/plain": [
       "            0\n",
       "0  225.382887\n",
       "1  234.756728\n",
       "2  164.003128\n",
       "3  123.462816\n",
       "4  173.320130\n",
       "5  240.201500\n",
       "6  114.665107\n",
       "7  186.846737\n",
       "8  147.813273\n",
       "9  215.152223"
      ]
     },
     "execution_count": 39,
     "metadata": {},
     "output_type": "execute_result"
    }
   ],
   "source": [
    "modelpredictions.head(10)"
   ]
  },
  {
   "cell_type": "markdown",
   "metadata": {},
   "source": [
    "## We can export the results into a csv file..."
   ]
  },
  {
   "cell_type": "code",
   "execution_count": 40,
   "metadata": {},
   "outputs": [],
   "source": [
    "modelpredictions.to_csv(r'ModelPredictions.csv', index = False)"
   ]
  },
  {
   "cell_type": "code",
   "execution_count": 41,
   "metadata": {},
   "outputs": [
    {
     "name": "stdout",
     "output_type": "stream",
     "text": [
      "-rwxrwxrwx 1 root root 2480 Nov 23 16:43 ModelPredictions.csv\r\n"
     ]
    }
   ],
   "source": [
    "!ls ModelPredictions.csv -l"
   ]
  },
  {
   "cell_type": "markdown",
   "metadata": {},
   "source": [
    "> You can open now the **Lab2 notebook**."
   ]
  },
  {
   "cell_type": "markdown",
   "metadata": {},
   "source": [
    "<img src=\"https://github.com/retkowsky/images/blob/master/Powered-by-MS-Azure-logo-v2.png?raw=true\" height=\"300\" width=\"300\">"
   ]
  }
 ],
 "metadata": {
  "kernel_info": {
   "name": "python3-azureml"
  },
  "kernelspec": {
   "display_name": "Python 3.6 - AzureML",
   "language": "python",
   "name": "python3-azureml"
  },
  "language_info": {
   "codemirror_mode": {
    "name": "ipython",
    "version": 3
   },
   "file_extension": ".py",
   "mimetype": "text/x-python",
   "name": "python",
   "nbconvert_exporter": "python",
   "pygments_lexer": "ipython3",
   "version": "3.6.9"
  },
  "nteract": {
   "version": "nteract-front-end@1.0.0"
  }
 },
 "nbformat": 4,
 "nbformat_minor": 2
}
